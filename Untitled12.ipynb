{
  "nbformat": 4,
  "nbformat_minor": 0,
  "metadata": {
    "colab": {
      "provenance": [],
      "authorship_tag": "ABX9TyMy2TCvrHL9L7s3zLK8MLDN",
      "include_colab_link": true
    },
    "kernelspec": {
      "name": "python3",
      "display_name": "Python 3"
    },
    "language_info": {
      "name": "python"
    }
  },
  "cells": [
    {
      "cell_type": "markdown",
      "metadata": {
        "id": "view-in-github",
        "colab_type": "text"
      },
      "source": [
        "<a href=\"https://colab.research.google.com/github/Haneen1234567/Haneen/blob/main/Untitled12.ipynb\" target=\"_parent\"><img src=\"https://colab.research.google.com/assets/colab-badge.svg\" alt=\"Open In Colab\"/></a>"
      ]
    },
    {
      "cell_type": "code",
      "execution_count": null,
      "metadata": {
        "id": "Z218lGSeS30i"
      },
      "outputs": [],
      "source": [
        "# Final Project Notebook\n"
      ]
    },
    {
      "cell_type": "code",
      "source": [
        "## Introduction\n",
        "This is the final project notebook for the Coursera course \"Open Source Tools for Data Science\".\n"
      ],
      "metadata": {
        "id": "c-vrzHL3ch3M"
      },
      "execution_count": null,
      "outputs": []
    },
    {
      "cell_type": "code",
      "source": [
        "## Data Science Languages\n",
        "The popular data science languages are:\n",
        "- Python\n",
        "- R\n",
        "- SQL\n",
        "- Julia\n",
        "- Java\n"
      ],
      "metadata": {
        "colab": {
          "base_uri": "https://localhost:8080/",
          "height": 106
        },
        "id": "ni_LyriTfv0H",
        "outputId": "4a1aed18-f069-4ccc-ec22-554555821e22"
      },
      "execution_count": 1,
      "outputs": [
        {
          "output_type": "error",
          "ename": "SyntaxError",
          "evalue": "invalid syntax (<ipython-input-1-5ec94d9c9645>, line 2)",
          "traceback": [
            "\u001b[0;36m  File \u001b[0;32m\"<ipython-input-1-5ec94d9c9645>\"\u001b[0;36m, line \u001b[0;32m2\u001b[0m\n\u001b[0;31m    The popular data science languages are:\u001b[0m\n\u001b[0m        ^\u001b[0m\n\u001b[0;31mSyntaxError\u001b[0m\u001b[0;31m:\u001b[0m invalid syntax\n"
          ]
        }
      ]
    },
    {
      "cell_type": "code",
      "source": [
        "## Data Science Libraries\n",
        "Some of the commonly used data science libraries are:\n",
        "- Pandas\n",
        "- NumPy\n",
        "- Matplotlib\n",
        "- Seaborn\n",
        "- Scikit-learn\n",
        "- TensorFlow\n",
        "- Keras\n"
      ],
      "metadata": {
        "id": "Kv9CDqLNf2pr"
      },
      "execution_count": null,
      "outputs": []
    },
    {
      "cell_type": "code",
      "source": [
        "## Data Science Tools\n",
        "| Tool           | Description                            |\n",
        "\n",
        "| Jupyter        | Notebook environment                   |\n",
        "| RStudio        | Integrated development environment (IDE) for R |\n",
        "| Apache Hadoop  | Framework for distributed storage and processing of large data sets |\n",
        "| Tableau        | Data visualization software            |\n",
        "| PowerBI        | Business analytics service             |\n"
      ],
      "metadata": {
        "id": "zenXMovwf9E3"
      },
      "execution_count": null,
      "outputs": []
    },
    {
      "cell_type": "code",
      "source": [
        "## Arithmetic Expressions\n",
        "Examples of arithmetic expressions include:\n",
        "- Addition: \\(3 + 2 = 5\\)\n",
        "- Subtraction: \\(5 - 2 = 3\\)\n",
        "- Multiplication: \\(4 * 2 = 8\\)\n",
        "- Division: \\(8 / 2 = 4\\)\n"
      ],
      "metadata": {
        "id": "GcTFf1TsgAYx"
      },
      "execution_count": null,
      "outputs": []
    },
    {
      "cell_type": "code",
      "source": [
        "# Multiplication and Addition\n",
        "a = 4\n",
        "b = 5\n",
        "result_multiplication = a * b\n",
        "result_addition = a + b\n",
        "result_multiplication, result_addition\n"
      ],
      "metadata": {
        "id": "7m766leggHeL"
      },
      "execution_count": null,
      "outputs": []
    },
    {
      "cell_type": "code",
      "source": [
        "# Convert minutes to hours\n",
        "minutes = 150\n",
        "hours = minutes / 60\n",
        "hours\n"
      ],
      "metadata": {
        "id": "Tgoyf2ZggL5P"
      },
      "execution_count": null,
      "outputs": []
    },
    {
      "cell_type": "code",
      "source": [
        "## Objectives\n",
        "The main objectives of this notebook are:\n",
        "- To list the popular languages for data science\n",
        "- To list the commonly used libraries in data science\n",
        "- To create and share the notebook via GitHub\n",
        "- To practice using Markdown and code cells in Jupyter Notebook\n"
      ],
      "metadata": {
        "id": "Nnt2V0g8gaKA"
      },
      "execution_count": null,
      "outputs": []
    },
    {
      "cell_type": "code",
      "source": [
        "## Author\n",
        "Name: [haneen khdour]\n"
      ],
      "metadata": {
        "id": "WlkQa-wrgeZm"
      },
      "execution_count": null,
      "outputs": []
    }
  ]
}